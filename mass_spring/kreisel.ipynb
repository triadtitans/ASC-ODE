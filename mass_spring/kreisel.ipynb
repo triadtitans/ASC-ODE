{
 "cells": [
  {
   "cell_type": "code",
   "execution_count": 1,
   "id": "273be4e5-124b-4cb9-a483-82b65d4db431",
   "metadata": {},
   "outputs": [
    {
     "name": "stdout",
     "output_type": "stream",
     "text": [
      "importing ASC-bla\n"
     ]
    }
   ],
   "source": [
    "import sys\n",
    "import os\n",
    "import math\n",
    "path = os.getenv(\"MASS_SPRING_PATH\")\n",
    "sys.path.append(path)\n",
    "\n",
    "from mass_spring import *\n",
    "import ASCsoft.bla\n",
    "\n",
    "from pythreejs import *"
   ]
  },
  {
   "cell_type": "code",
   "execution_count": 6,
   "id": "c115e8a8-f071-41f0-bc37-aac1e971dd8a",
   "metadata": {},
   "outputs": [
    {
     "data": {
      "text/plain": [
       "8"
      ]
     },
     "execution_count": 6,
     "metadata": {},
     "output_type": "execute_result"
    }
   ],
   "source": [
    "mss = MassSpringSystem3d()\n",
    "mss.gravity = (0,0,-9.81)\n",
    "\n",
    "m1 = mss.Add (Mass(1.1, (0,1,1),(-10,0,0)))\n",
    "m2 = mss.Add (Mass(1,(-1,0,1),(0,-10,0)))\n",
    "m3 = mss.Add (Mass(1,(0,-1,1),(10,0,0)))\n",
    "m4 = mss.Add (Mass(1,(1,0,1),(0,10,0)))\n",
    "fU = mss.Add (Fix((0,0,0)))\n",
    "\n",
    "mss.Add (Beam(sqrt(2),(m1, m2)))\n",
    "mss.Add (Beam(sqrt(2),(m2, m3)))\n",
    "mss.Add (Beam(sqrt(2),(m3, m4)))\n",
    "mss.Add (Beam(sqrt(2),(m4, m1)))\n",
    "mss.Add (Beam(2,(m3, m1)))\n",
    "\n",
    "mss.Add (Beam(sqrt(2),(m1, fU)))\n",
    "mss.Add (Beam(sqrt(2),(m2, fU)))\n",
    "mss.Add (Beam(sqrt(2),(m3, fU)))\n",
    "mss.Add (Beam(sqrt(2),(m4, fU)))\n",
    "#mss.Add (Spring(1, 1000, (fD, mA)))\n",
    "#mss.Add (Spring(1, 1000, (fQ, mA)))"
   ]
  },
  {
   "cell_type": "code",
   "execution_count": 7,
   "id": "2a9b65e9-0efc-423d-82e7-d15e78182052",
   "metadata": {},
   "outputs": [],
   "source": [
    "masses = []\n",
    "for m in mss.masses:\n",
    "    masses.append(\n",
    "        Mesh(SphereBufferGeometry(0.2, 16, 16),\n",
    "             MeshStandardMaterial(color='red'),\n",
    "             position=(m.pos[0], m.pos[1], m.pos[2])))\n",
    "\n",
    "fixes = []\n",
    "for f in mss.fixes:\n",
    "    fixes.append(\n",
    "        Mesh(SphereBufferGeometry(0.2, 32, 16),\n",
    "             MeshStandardMaterial(color='blue'),\n",
    "             position=(f.pos[0], f.pos[1], f.pos[2])))\n",
    "\n",
    "springpos = []\n",
    "for s in mss.springs:\n",
    "    pA = mss[s.connections[0]].pos\n",
    "    pB = mss[s.connections[1]].pos\n",
    "    springpos.append ([ [pA[0], pA[1], pA[2]], [pB[0], pB[1], pB[2]] ])\n",
    "\n",
    "if springpos:\n",
    "    springgeo = LineSegmentsGeometry(positions=springpos)\n",
    "    m2 = LineMaterial(linewidth=3, color='cyan')\n",
    "    springs = LineSegments2(springgeo, m2)    \n",
    "\n",
    "beampos = []\n",
    "for b in mss.beams:\n",
    "    pA = mss[b.connections[0]].pos\n",
    "    pB = mss[b.connections[1]].pos\n",
    "    beampos.append ([ [pA[0], pA[1], pA[2]], [pB[0], pB[1], pB[2]] ])\n",
    "\n",
    "if beampos:\n",
    "    beamgeo = LineSegmentsGeometry(positions=beampos)\n",
    "    m2 = LineMaterial(linewidth=4, color='green')\n",
    "    beams = LineSegments2(beamgeo, m2)    \n",
    "\n",
    "\n",
    "axes = AxesHelper(1)"
   ]
  },
  {
   "cell_type": "code",
   "execution_count": 8,
   "id": "d0178d16-4bd0-44bb-bc4d-5f4582407812",
   "metadata": {},
   "outputs": [
    {
     "data": {
      "application/vnd.jupyter.widget-view+json": {
       "model_id": "fbf457d893e94665924a8a8976e40334",
       "version_major": 2,
       "version_minor": 0
      },
      "text/plain": [
       "Renderer(camera=PerspectiveCamera(aspect=1.25, position=(10.0, 6.0, 10.0), projectionMatrix=(1.0, 0.0, 0.0, 0.…"
      ]
     },
     "execution_count": 8,
     "metadata": {},
     "output_type": "execute_result"
    }
   ],
   "source": [
    "view_width = 1000\n",
    "view_height = 800\n",
    "\n",
    "camera = PerspectiveCamera( position=[10, 6, 10], aspect=view_width/view_height)\n",
    "key_light = DirectionalLight(position=[0, 10, 10])\n",
    "ambient_light = AmbientLight()\n",
    "\n",
    "scene = Scene(children=[*masses, *fixes, axes, camera, key_light, ambient_light] + ([] if not beampos else [beams]) + ([] if not springpos else [springs]) )\n",
    "controller = OrbitControls(controlling=camera)\n",
    "renderer = Renderer(camera=camera, scene=scene, controls=[controller],\n",
    "                    width=view_width, height=view_height)\n",
    "\n",
    "renderer"
   ]
  },
  {
   "cell_type": "code",
   "execution_count": null,
   "id": "753313ed-0d8a-4c3f-a63b-a4019904210c",
   "metadata": {},
   "outputs": [],
   "source": [
    "from time import sleep\n",
    "for i in range(10000):\n",
    "    Simulate (mss, 0.02, 20)\n",
    "    for m,mvis in zip(mss.masses, masses):\n",
    "        mvis.position = (m.pos[0], m.pos[1], m.pos[2])\n",
    "\n",
    "    springpos = []\n",
    "    for s in mss.springs:\n",
    "        pA = mss[s.connections[0]].pos\n",
    "        pB = mss[s.connections[1]].pos\n",
    "        springpos.append ([ [pA[0], pA[1], pA[2]], [pB[0], pB[1], pB[2]] ])\n",
    "    if springpos:\n",
    "        springs.geometry = LineSegmentsGeometry(positions=springpos)\n",
    "\n",
    "    beampos = []\n",
    "    for b in mss.beams:\n",
    "        pA = mss[b.connections[0]].pos\n",
    "        pB = mss[b.connections[1]].pos\n",
    "        beampos.append ([ [pA[0], pA[1], pA[2]], [pB[0], pB[1], pB[2]] ])\n",
    "    if beampos:\n",
    "        beams.geometry = LineSegmentsGeometry(positions=beampos)\n",
    "    \n",
    "    sleep(0.01)"
   ]
  },
  {
   "cell_type": "code",
   "execution_count": null,
   "id": "13226297-e687-4dd4-a9a9-7e05e2083634",
   "metadata": {},
   "outputs": [],
   "source": []
  },
  {
   "cell_type": "code",
   "execution_count": null,
   "id": "48a0e80a-0439-4b51-874e-ad283165a4c0",
   "metadata": {},
   "outputs": [],
   "source": []
  }
 ],
 "metadata": {
  "kernelspec": {
   "display_name": "Python 3 (ipykernel)",
   "language": "python",
   "name": "python3"
  },
  "language_info": {
   "codemirror_mode": {
    "name": "ipython",
    "version": 3
   },
   "file_extension": ".py",
   "mimetype": "text/x-python",
   "name": "python",
   "nbconvert_exporter": "python",
   "pygments_lexer": "ipython3",
   "version": "3.11.6"
  }
 },
 "nbformat": 4,
 "nbformat_minor": 5
}
