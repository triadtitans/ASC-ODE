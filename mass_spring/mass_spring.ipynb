{
 "cells": [
  {
   "cell_type": "code",
   "execution_count": 21,
   "id": "8c22d9bc-c86b-434f-b0f3-0e01290fd183",
   "metadata": {},
   "outputs": [],
   "source": [
    "import sys\n",
    "import os\n",
    "path = os.getenv(\"MASS_SPRING_PATH\")\n",
    "sys.path.append(path)\n",
    "\n",
    "from mass_spring import *\n",
    "import ASCsoft.bla\n",
    "\n",
    "from pythreejs import *"
   ]
  },
  {
   "cell_type": "code",
   "execution_count": 22,
   "id": "24f72163-bcb0-45bf-8407-66384ad3fbc4",
   "metadata": {},
   "outputs": [
    {
     "data": {
      "text/plain": [
       "4"
      ]
     },
     "execution_count": 22,
     "metadata": {},
     "output_type": "execute_result"
    }
   ],
   "source": [
    "mss = MassSpringSystem3d()\n",
    "mss.gravity = (0,0,-9.81)\n",
    "\n",
    "mA = mss.Add (Mass(1, (1,0.5,0)))\n",
    "mB = mss.Add (Mass(2, (2,0,0)))\n",
    "fD = mss.Add(Fix((1,1,0)))\n",
    "fQ = mss.Add(Fix((1,-1,0)))\n",
    "mC = mss.Add (Mass(1, (3,0,0)))\n",
    "f1 = mss.Add (Fix( (0,0,0)) )\n",
    "mss.Add (Spring(1, 1000 ,(f1, mA)))\n",
    "mss.Add (Spring(1, 1000,(mA, mB)))\n",
    "mss.Add (Spring(1, 10, (mB, mC)))\n",
    "mss.Add (Spring(1, 1000, (fD, mA)))\n",
    "mss.Add (Spring(1, 1000, (fQ, mA)))"
   ]
  },
  {
   "cell_type": "code",
   "execution_count": 23,
   "id": "c5c8bdfc-9022-4def-bf04-4511756651ea",
   "metadata": {},
   "outputs": [],
   "source": [
    "masses = []\n",
    "for m in mss.masses:\n",
    "    masses.append(\n",
    "        Mesh(SphereBufferGeometry(0.2, 16, 16),\n",
    "             MeshStandardMaterial(color='red'),\n",
    "             position=(m.pos[0], m.pos[1], m.pos[2])))\n",
    "\n",
    "fixes = []\n",
    "for f in mss.fixes:\n",
    "    fixes.append(\n",
    "        Mesh(SphereBufferGeometry(0.2, 32, 16),\n",
    "             MeshStandardMaterial(color='blue'),\n",
    "             position=(f.pos[0], f.pos[1], f.pos[2])))\n",
    "\n",
    "springpos = []\n",
    "for s in mss.springs:\n",
    "    pA = mss[s.connections[0]].pos\n",
    "    pB = mss[s.connections[1]].pos\n",
    "    springpos.append ([ [pA[0], pA[1], pA[2]], [pB[0], pB[1], pB[2]] ])\n",
    "\n",
    "if springpos:\n",
    "    springgeo = LineSegmentsGeometry(positions=springpos)\n",
    "    m2 = LineMaterial(linewidth=3, color='cyan')\n",
    "    springs = LineSegments2(springgeo, m2)    \n",
    "\n",
    "beampos = []\n",
    "for b in mss.beams:\n",
    "    pA = mss[b.connections[0]].pos\n",
    "    pB = mss[b.connections[1]].pos\n",
    "    beampos.append ([ [pA[0], pA[1], pA[2]], [pB[0], pB[1], pB[2]] ])\n",
    "\n",
    "if beampos:\n",
    "    beamgeo = LineSegmentsGeometry(positions=beampos)\n",
    "    m2 = LineMaterial(linewidth=4, color='green')\n",
    "    beams = LineSegments2(beamgeo, m2)    \n",
    "\n",
    "\n",
    "axes = AxesHelper(1)"
   ]
  },
  {
   "cell_type": "code",
   "execution_count": 24,
   "id": "c13e6200-9cab-4df1-8240-f03414ff9b20",
   "metadata": {},
   "outputs": [
    {
     "data": {
      "application/vnd.jupyter.widget-view+json": {
       "model_id": "d1d616c1e6a044dbb129e041656b5d62",
       "version_major": 2,
       "version_minor": 0
      },
      "text/plain": [
       "Renderer(camera=PerspectiveCamera(aspect=1.5, position=(10.0, 6.0, 10.0), projectionMatrix=(1.0, 0.0, 0.0, 0.0…"
      ]
     },
     "execution_count": 24,
     "metadata": {},
     "output_type": "execute_result"
    }
   ],
   "source": [
    "view_width = 600\n",
    "view_height = 400\n",
    "\n",
    "camera = PerspectiveCamera( position=[10, 6, 10], aspect=view_width/view_height)\n",
    "key_light = DirectionalLight(position=[0, 10, 10])\n",
    "ambient_light = AmbientLight()\n",
    "\n",
    "scene = Scene(children=[*masses, *fixes, axes, camera, key_light, ambient_light] + ([] if not beampos else [beams]) + ([] if not springpos else [springs]) )\n",
    "controller = OrbitControls(controlling=camera)\n",
    "renderer = Renderer(camera=camera, scene=scene, controls=[controller],\n",
    "                    width=view_width, height=view_height)\n",
    "\n",
    "renderer"
   ]
  },
  {
   "cell_type": "code",
   "execution_count": null,
   "id": "1f6bdd5d-d385-4431-a3e7-923ebfb70949",
   "metadata": {},
   "outputs": [],
   "source": [
    "from time import sleep\n",
    "for i in range(10000):\n",
    "    Simulate (mss, 0.02, 100)\n",
    "    for m,mvis in zip(mss.masses, masses):\n",
    "        mvis.position = (m.pos[0], m.pos[1], m.pos[2])\n",
    "\n",
    "    springpos = []\n",
    "    for s in mss.springs:\n",
    "        pA = mss[s.connections[0]].pos\n",
    "        pB = mss[s.connections[1]].pos\n",
    "        springpos.append ([ [pA[0], pA[1], pA[2]], [pB[0], pB[1], pB[2]] ])\n",
    "    if springpos:\n",
    "        springs.geometry = LineSegmentsGeometry(positions=springpos)\n",
    "\n",
    "    beampos = []\n",
    "    for b in mss.beams:\n",
    "        pA = mss[b.connections[0]].pos\n",
    "        pB = mss[b.connections[1]].pos\n",
    "        beampos.append ([ [pA[0], pA[1], pA[2]], [pB[0], pB[1], pB[2]] ])\n",
    "    if beampos:\n",
    "        beams.geometry = LineSegmentsGeometry(positions=beampos)\n",
    "    \n",
    "    sleep(0.01)"
   ]
  },
  {
   "cell_type": "code",
   "execution_count": null,
   "id": "e541ab27-4bdd-4950-a41d-88b2aef77a10",
   "metadata": {},
   "outputs": [],
   "source": [
    "[3] + [2]"
   ]
  },
  {
   "cell_type": "code",
   "execution_count": null,
   "id": "4090139f-926c-4de1-9c16-db65d1852234",
   "metadata": {},
   "outputs": [],
   "source": []
  }
 ],
 "metadata": {
  "kernelspec": {
   "display_name": "Python 3 (ipykernel)",
   "language": "python",
   "name": "python3"
  },
  "language_info": {
   "codemirror_mode": {
    "name": "ipython",
    "version": 3
   },
   "file_extension": ".py",
   "mimetype": "text/x-python",
   "name": "python",
   "nbconvert_exporter": "python",
   "pygments_lexer": "ipython3",
   "version": "3.12.0"
  }
 },
 "nbformat": 4,
 "nbformat_minor": 5
}
