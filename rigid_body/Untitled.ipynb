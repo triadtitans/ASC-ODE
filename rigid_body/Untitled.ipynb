{
 "cells": [
  {
   "cell_type": "code",
   "execution_count": 1,
   "id": "6ce7864f-27fc-4799-986c-5c05b4bd04b5",
   "metadata": {},
   "outputs": [
    {
     "name": "stdout",
     "output_type": "stream",
     "text": [
      "importing ASC-bla\n"
     ]
    }
   ],
   "source": [
    "import sys\n",
    "import os\n",
    "import math\n",
    "path = os.getenv(\"RIGID_BODY_PATH\")\n",
    "sys.path.append(path)\n",
    "\n",
    "from rigid_body import *\n",
    "import ASCsoft.bla\n",
    "\n",
    "from pythreejs import *"
   ]
  },
  {
   "cell_type": "code",
   "execution_count": 2,
   "id": "5d0f8f1d-2638-42f3-90eb-359a5db5385f",
   "metadata": {},
   "outputs": [],
   "source": [
    "r = RigidBody()"
   ]
  },
  {
   "cell_type": "code",
   "execution_count": 3,
   "id": "3ecde840-51d7-4909-a52b-e30130d273c1",
   "metadata": {},
   "outputs": [],
   "source": [
    "r.setMass(mass_cube())"
   ]
  },
  {
   "cell_type": "code",
   "execution_count": 22,
   "id": "bc3bffcc-fd11-4507-ae74-11b008943fc5",
   "metadata": {},
   "outputs": [
    {
     "name": "stdout",
     "output_type": "stream",
     "text": [
      " Translation: \t0.101100 ,0.002783, , 0.002783\n",
      " Rotation: \t1.000000 ,-0.000000, , -0.000000\n",
      " \t\t0.000000 ,0.999985, , -0.005550\n",
      "\t\t0.000000 ,0.005550, , 0.999985\n",
      "\n"
     ]
    }
   ],
   "source": [
    "print(r.q)"
   ]
  },
  {
   "cell_type": "code",
   "execution_count": 5,
   "id": "1fe30594-d7b5-47e3-bec4-11680751bef3",
   "metadata": {},
   "outputs": [
    {
     "name": "stdout",
     "output_type": "stream",
     "text": [
      " Translation: \t0.000000 ,0.000000, , 0.000000\n",
      " Rotation: \t0.000000 ,0.000000, , 0.000000\n",
      " \t\t0.000000 ,0.000000, , 0.000000\n",
      "\t\t0.000000 ,0.000000, , 0.000000\n",
      "\n"
     ]
    }
   ],
   "source": [
    "print(r.dq)"
   ]
  },
  {
   "cell_type": "code",
   "execution_count": 21,
   "id": "a4aaa358-bce0-4a10-a9d8-aa028ca3e1f1",
   "metadata": {},
   "outputs": [],
   "source": [
    "r.simulate(10,1000)"
   ]
  },
  {
   "cell_type": "code",
   "execution_count": 7,
   "id": "dc114120-23cf-45ae-8cce-57c85c04cae7",
   "metadata": {},
   "outputs": [],
   "source": [
    "t = Transformation()"
   ]
  },
  {
   "cell_type": "code",
   "execution_count": 8,
   "id": "0cbb27ba-e997-4b59-b71c-7050c2912fc4",
   "metadata": {},
   "outputs": [],
   "source": [
    "t.setTranslation(0.01,0,0)"
   ]
  },
  {
   "cell_type": "code",
   "execution_count": 20,
   "id": "800eed1a-88bf-4d2a-857b-fd2360f868ed",
   "metadata": {},
   "outputs": [],
   "source": [
    "r.dq=t"
   ]
  },
  {
   "cell_type": "code",
   "execution_count": 10,
   "id": "06bd9a2e-7cee-4e90-afed-fd856f254e71",
   "metadata": {},
   "outputs": [
    {
     "name": "stdout",
     "output_type": "stream",
     "text": [
      " Translation: \t0.010000 ,0.000000, , 0.000000\n",
      " Rotation: \t0.000000 ,0.000000, , 0.000000\n",
      " \t\t0.000000 ,0.000000, , 0.000000\n",
      "\t\t0.000000 ,0.000000, , 0.000000\n",
      "\n"
     ]
    }
   ],
   "source": [
    "print(r.dq)"
   ]
  },
  {
   "cell_type": "code",
   "execution_count": 18,
   "id": "9721e998-804d-462f-a708-1856e0e2deda",
   "metadata": {},
   "outputs": [
    {
     "name": "stdout",
     "output_type": "stream",
     "text": [
      " Translation: \t0.010000 ,0.000000, , 0.000000\n",
      " Rotation: \t0.000000 ,0.000000, , 0.000000\n",
      " \t\t0.000000 ,0.000000, , 0.000000\n",
      "\t\t0.000000 ,0.010000, , 0.000000\n",
      "\n"
     ]
    }
   ],
   "source": [
    "print(t)"
   ]
  },
  {
   "cell_type": "code",
   "execution_count": 14,
   "id": "23e2b5d2-d16b-4061-b6e8-be668a7c07f1",
   "metadata": {},
   "outputs": [],
   "source": [
    "r.simulate(4,1000)"
   ]
  },
  {
   "cell_type": "code",
   "execution_count": 15,
   "id": "12354588-efb3-4f52-addb-eb51ff56a049",
   "metadata": {},
   "outputs": [
    {
     "name": "stdout",
     "output_type": "stream",
     "text": [
      " Translation: \t0.000000 ,0.000000, , 0.000000\n",
      " Rotation: \t1.000000 ,0.000000, , 0.000000\n",
      " \t\t0.000000 ,1.000000, , 0.000000\n",
      "\t\t0.000000 ,0.000000, , 1.000000\n",
      "\n"
     ]
    }
   ],
   "source": [
    "print(r.q)"
   ]
  },
  {
   "cell_type": "code",
   "execution_count": 19,
   "id": "0544ea69-7e03-4cdb-b68a-7ac68576592d",
   "metadata": {},
   "outputs": [],
   "source": [
    "t.setRotation(2,1,0.001)"
   ]
  },
  {
   "cell_type": "code",
   "execution_count": null,
   "id": "fd9be291-8ad3-4945-98fe-9cb57f0ed3c1",
   "metadata": {},
   "outputs": [],
   "source": []
  }
 ],
 "metadata": {
  "kernelspec": {
   "display_name": "Python 3 (ipykernel)",
   "language": "python",
   "name": "python3"
  },
  "language_info": {
   "codemirror_mode": {
    "name": "ipython",
    "version": 3
   },
   "file_extension": ".py",
   "mimetype": "text/x-python",
   "name": "python",
   "nbconvert_exporter": "python",
   "pygments_lexer": "ipython3",
   "version": "3.11.8"
  }
 },
 "nbformat": 4,
 "nbformat_minor": 5
}
