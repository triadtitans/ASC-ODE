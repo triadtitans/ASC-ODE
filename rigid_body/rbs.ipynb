{
 "cells": [
  {
   "cell_type": "code",
   "execution_count": 1,
   "id": "1257c4a8-4bd0-4647-ae95-160dc125c443",
   "metadata": {},
   "outputs": [],
   "source": [
    "from netgen.occ import *\n",
    "from ngsolve import Mesh\n",
    "\n",
    "import sys\n",
    "sys.path.append(\"../build/rigid_body\")\n",
    "from rigid_body import *\n",
    "import rigid_body.bla as bla\n",
    "\n",
    "import pythreejs as p3\n",
    "\n",
    "from IPython.display import display\n",
    "import ipywidgets as widgets"
   ]
  },
  {
   "cell_type": "code",
   "execution_count": 2,
   "id": "bf6e80a0-d42c-4425-a739-de6696f2b75b",
   "metadata": {},
   "outputs": [],
   "source": [
    "# set up OCC CAD model\n",
    "box = Box(Pnt(-0.5,-0.5,-0.5), Pnt(0.5,0.5,0.5))\n",
    "geo = OCCGeometry(box)\n",
    "mesh = Mesh(geo.GenerateMesh(maxh=0.5))\n",
    "# important: move the center of mass into the origin\n",
    "box = box.Move((-box.center[0], -box.center[1], -box.center[2]))"
   ]
  },
  {
   "cell_type": "code",
   "execution_count": 3,
   "id": "ff9020a8-abc0-493b-b3ad-42914b2fa409",
   "metadata": {},
   "outputs": [],
   "source": [
    "# from ngsolve.webgui import Draw\n",
    "# Draw(mesh)"
   ]
  },
  {
   "cell_type": "code",
   "execution_count": 4,
   "id": "a4db6039-5747-4850-bba3-b9ade6445e9e",
   "metadata": {},
   "outputs": [],
   "source": [
    "def mass_matrix_from_solid(obj):\n",
    "    \"extracts the mass matrix of the TopAbs_ShapeEnum.SOLID obj, using the figures computed by netgen\"\n",
    "    \n",
    "    # copy the inertia matrix from netgen\n",
    "    inertia_matrix = bla.Matrix(3,3)\n",
    "    for i in range(3):\n",
    "        for j in range(3):\n",
    "            inertia_matrix[i, j] = obj.inertia[i, j]\n",
    "\n",
    "    # copy the center of mass from netgen\n",
    "    center_of_mass = bla.Vector(3)\n",
    "    for i in range(3): center_of_mass[i] = obj.center[i]\n",
    "\n",
    "    # rearrange it in C++ to make the mass matrix (the elegant way, using MatrixView)\n",
    "    mass_matrix = mass_matrix_from_inertia(inertia_matrix, center_of_mass, obj.mass)\n",
    "    return mass_matrix\n",
    "\n",
    "mass_matrix = mass_matrix_from_solid(box)\n",
    "# print(mass_matrix)\n",
    "#for i in range(18):\n",
    "#    for j in range(18):\n",
    "#        print(F\"{round(mass_matrix[i, j], 5)}, \", end=\"\")\n",
    "#    print(\"\\\\\")\n"
   ]
  },
  {
   "cell_type": "code",
   "execution_count": 5,
   "id": "20f4548f-b512-4fa9-8f69-c18104385a55",
   "metadata": {},
   "outputs": [],
   "source": [
    "def extract_vertices(mesh: Mesh):\n",
    "    \"extracts a p3js compatible vertex list from a netgen.occ Mesh\"\n",
    "    combined_vertices = [] # flat array of vertices of all faces\n",
    "    all_vertices = [vert.point for vert in mesh.vertices] # all available vertices\n",
    "\n",
    "    # throw all vertices of all faces into combined_vertices\n",
    "    for face in mesh.faces:\n",
    "        for vertex in face.vertices:\n",
    "            point = all_vertices[vertex.nr]\n",
    "            combined_vertices.append(point)\n",
    "            \n",
    "    return combined_vertices"
   ]
  },
  {
   "cell_type": "code",
   "execution_count": 6,
   "id": "c93c4a08-3917-433a-9c9e-2681fa3beab4",
   "metadata": {},
   "outputs": [],
   "source": [
    "rbs = RBSystem()"
   ]
  },
  {
   "cell_type": "code",
   "execution_count": 7,
   "id": "bd6df028-10d7-4932-99cf-eb61bf3bc1cc",
   "metadata": {},
   "outputs": [],
   "source": [
    "# set up physics simulation object\n",
    "r1 = RigidBody()\n",
    "r1.setMass(mass_matrix)\n",
    "\n",
    "p1 = Transformation()\n",
    "p1.setTranslation(0,0,0)\n",
    "p1.setRotation(0,0,1)\n",
    "p1.setRotation(1,1,1)\n",
    "p1.setRotation(2,2,1)\n",
    "r1.q=p1\n",
    "\n",
    "t1 = Transformation()\n",
    "t1.setTranslation(0.000,0.1,0.1)\n",
    "t1.setRotation(0,2,0.001)\n",
    "t1.setRotation(2,0,-0.001)\n",
    "r1.dq=t1\n",
    "\n",
    "\n",
    "\n",
    "r2 = RigidBody()\n",
    "r2.setMass(mass_matrix)\n",
    "\n",
    "p2 = Transformation()\n",
    "p2.setTranslation(1,1,1)\n",
    "p2.setRotation(0,0,1)\n",
    "p2.setRotation(1,1,1)\n",
    "p2.setRotation(2,2,1)\n",
    "r2.q=p2\n",
    "\n",
    "t2 = Transformation()\n",
    "t2.setTranslation(0.000,0.1,0)\n",
    "t2.setRotation(0,2,0.02)\n",
    "t2.setRotation(2,0,-0.02)\n",
    "r2.dq=t2\n",
    "\n",
    "#Add body to system\n",
    "c1 = rbs.addBody(r1)\n",
    "c1.pos=(0,0,0)\n",
    "c2 = rbs.addBody(r2)\n",
    "c2.pos=(0,0,0)\n",
    "#b = Beam(c1,c2,1.732);\n",
    "#rbs.addBeam(b)\n",
    "\n",
    "# save a restore point for the reset button\n",
    "rbs.saveState()\n"
   ]
  },
  {
   "cell_type": "code",
   "execution_count": 8,
   "id": "ff834d29-8423-4b67-9b84-70c9af6fafd8",
   "metadata": {},
   "outputs": [],
   "source": [
    "meshes = [mesh,mesh]"
   ]
  },
  {
   "cell_type": "code",
   "execution_count": 9,
   "id": "5f0a6e68-5e2d-403e-ae12-f7d948e28eca",
   "metadata": {},
   "outputs": [
    {
     "name": "stdout",
     "output_type": "stream",
     "text": [
      " Translation: \t0.000000 ,0.000000, , 0.000000\n",
      " Rotation: \t1.000000 ,0.000000, , 0.000000\n",
      " \t\t0.000000 ,1.000000, , 0.000000\n",
      "\t\t0.000000 ,0.000000, , 1.000000\n",
      "\n"
     ]
    }
   ],
   "source": [
    "print(rbs.bodies()[0].q)"
   ]
  },
  {
   "cell_type": "code",
   "execution_count": 10,
   "id": "1dbdc0df-703e-4ec9-9f76-3bbdb9348b13",
   "metadata": {},
   "outputs": [],
   "source": [
    "view_width = 600\n",
    "view_height = 400\n",
    "buffergeos = []\n",
    "p3meshes = []\n",
    "# set up pythreejs 3d object\n",
    "for m in meshes:\n",
    "    original_vertices = extract_vertices(m)\n",
    "    buffergeom = p3.BufferGeometry(attributes = {\"position\" : p3.BufferAttribute(original_vertices, normalized=False)})\n",
    "    buffergeom.exec_three_obj_method(\"computeVertexNormals\") # gives normals for shading\n",
    "    material = p3.MeshPhongMaterial(color='#ff3333', shininess=150, morphTargets=True, side=\"DoubleSide\")\n",
    "    p3mesh = p3.Mesh(buffergeom, material, position=(0,0,0))\n",
    "    buffergeos.append(buffergeom)\n",
    "    p3meshes.append(p3mesh)\n",
    "\n",
    "# extra scene contents\n",
    "camera = p3.PerspectiveCamera( position=[10, 6, 10], aspect=view_width/view_height)\n",
    "key_light = p3.DirectionalLight(position=[0, 10, 10])\n",
    "ambient_light = p3.AmbientLight()\n",
    "grid = p3.GridHelper(500, 500//5, \"#2F4F4F\", \"#2F4F4F\")\n",
    "\n",
    "# set up scene\n",
    "scene = p3.Scene(children=[camera, key_light, ambient_light, grid]+p3meshes)\n",
    "controller = p3.OrbitControls(controlling=camera)\n",
    "renderer = p3.Renderer(camera=camera, scene=scene, controls=[controller],\n",
    "                    width=view_width, height=view_height, antialias=True) # if performance is bad, try removing antalias=True"
   ]
  },
  {
   "cell_type": "code",
   "execution_count": null,
   "id": "43d72e1a-46dd-4e37-9128-fc20f5be013f",
   "metadata": {},
   "outputs": [],
   "source": []
  },
  {
   "cell_type": "code",
   "execution_count": 11,
   "id": "ed9c75ce-17b1-4c95-ad3b-71f2caffe2be",
   "metadata": {},
   "outputs": [
    {
     "name": "stdout",
     "output_type": "stream",
     "text": [
      " Translation: \t0.000000 ,0.100000, , 0.000000\n",
      " Rotation: \t0.000000 ,0.000000, , 0.020000\n",
      " \t\t0.000000 ,0.000000, , 0.000000\n",
      "\t\t-0.020000 ,0.000000, , 0.000000\n",
      "\n"
     ]
    }
   ],
   "source": [
    "print(r2.dq)"
   ]
  },
  {
   "cell_type": "code",
   "execution_count": 12,
   "id": "a9965a05-947e-4536-95ac-2421b1b9bb91",
   "metadata": {},
   "outputs": [],
   "source": [
    "# play/reset button\n",
    "play = widgets.Play(\n",
    "    value=10,\n",
    "    min=0,\n",
    "    max=10000,\n",
    "    step=1,\n",
    "    interval=100/30,\n",
    "    description=\"Press play\",\n",
    "    disabled=False\n",
    ")"
   ]
  },
  {
   "cell_type": "code",
   "execution_count": 13,
   "id": "79fa3672-6159-4c2e-a1bf-3ea0b6b192ba",
   "metadata": {},
   "outputs": [
    {
     "data": {
      "text/plain": [
       "(0.0, 0.0, 0.0)"
      ]
     },
     "execution_count": 13,
     "metadata": {},
     "output_type": "execute_result"
    }
   ],
   "source": [
    "c2.pos"
   ]
  },
  {
   "cell_type": "code",
   "execution_count": 14,
   "id": "118ca51d-42ff-48f1-9f2f-9f726df4ec55",
   "metadata": {},
   "outputs": [],
   "source": [
    "for m in p3meshes:\n",
    "    m.matrixAutoUpdate = False # make mesh movable\n",
    "\n",
    "def refreshMeshes():\n",
    "    for i in range(0,len(meshes)):\n",
    "        p3meshes[i].matrix=rbs.bodies()[i].q.asTuple()\n",
    "\n",
    "def update():\n",
    "    \"update function, gets called every timestep; quasi main loop\"\n",
    "    rbs.simulate(1,10)\n",
    "    refreshMeshes()\n",
    "\n",
    "def observer(state):\n",
    "    \"event handler for clickable buttons\"\n",
    "    # if there is a change in time\n",
    "    if state[\"name\"] == \"value\":\n",
    "        # it might be a reset\n",
    "        if str(state[\"new\"]) == \"0\":\n",
    "            rbs.reset()\n",
    "            refreshMeshes()\n",
    "        # or it might be a progress in time\n",
    "        else:\n",
    "            update()\n",
    "    # repeat is used as an alias to reset\n",
    "    elif state[\"name\"] == \"repeat\":\n",
    "        rbs.reset()\n",
    "        refreshMeshes()\n",
    "\n",
    "play.observe(observer)\n"
   ]
  },
  {
   "cell_type": "code",
   "execution_count": 15,
   "id": "c24ce734-6568-4e53-b187-e8d80cb099f1",
   "metadata": {},
   "outputs": [
    {
     "data": {
      "application/vnd.jupyter.widget-view+json": {
       "model_id": "f6b5bf774b044bf08adab331a025e892",
       "version_major": 2,
       "version_minor": 0
      },
      "text/plain": [
       "HBox(children=(Play(value=10, description='Press play', interval=3, max=10000), HTML(value='<b>click-and-drag …"
      ]
     },
     "metadata": {},
     "output_type": "display_data"
    },
    {
     "data": {
      "application/vnd.jupyter.widget-view+json": {
       "model_id": "77915f6797d044dfb54d0c1feff255c8",
       "version_major": 2,
       "version_minor": 0
      },
      "text/plain": [
       "Renderer(camera=PerspectiveCamera(aspect=1.5, position=(10.0, 6.0, 10.0), projectionMatrix=(1.0, 0.0, 0.0, 0.0…"
      ]
     },
     "metadata": {},
     "output_type": "display_data"
    }
   ],
   "source": [
    "display(widgets.HBox([play, widgets.HTML(\"<b>click-and-drag to rotate, scroll to zoom, right-click-and-drag to move<b>\")]))\n",
    "display(renderer)\n",
    "refreshMeshes()"
   ]
  },
  {
   "cell_type": "code",
   "execution_count": null,
   "id": "8dd11228-b580-4e39-8242-acf34de3a96e",
   "metadata": {},
   "outputs": [],
   "source": []
  }
 ],
 "metadata": {
  "kernelspec": {
   "display_name": "Python 3 (ipykernel)",
   "language": "python",
   "name": "python3"
  },
  "language_info": {
   "codemirror_mode": {
    "name": "ipython",
    "version": 3
   },
   "file_extension": ".py",
   "mimetype": "text/x-python",
   "name": "python",
   "nbconvert_exporter": "python",
   "pygments_lexer": "ipython3",
   "version": "3.11.8"
  }
 },
 "nbformat": 4,
 "nbformat_minor": 5
}
