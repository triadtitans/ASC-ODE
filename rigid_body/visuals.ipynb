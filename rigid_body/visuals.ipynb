{
 "cells": [
  {
   "cell_type": "code",
   "execution_count": 1,
   "id": "1257c4a8-4bd0-4647-ae95-160dc125c443",
   "metadata": {},
   "outputs": [],
   "source": [
    "from netgen.occ import *\n",
    "from ngsolve import Mesh\n",
    "from ngsolve.webgui import Draw\n",
    "\n",
    "import sys\n",
    "sys.path.append(\"../build/rigid_body\")\n",
    "import rigid_body\n",
    "\n",
    "import pythreejs as p3\n",
    "\n",
    "import numpy as np\n",
    "from IPython.display import display\n",
    "import time"
   ]
  },
  {
   "cell_type": "code",
   "execution_count": 2,
   "id": "bf6e80a0-d42c-4425-a739-de6696f2b75b",
   "metadata": {},
   "outputs": [],
   "source": [
    "# set up OCC CAD model\n",
    "box = Box(Pnt(0,0,0), Pnt(1,1,1))\n",
    "geo = OCCGeometry(box)\n",
    "mesh = Mesh(geo.GenerateMesh(maxh=1))"
   ]
  },
  {
   "cell_type": "code",
   "execution_count": 3,
   "id": "20f4548f-b512-4fa9-8f69-c18104385a55",
   "metadata": {},
   "outputs": [],
   "source": [
    "def extract_vertices(mesh: Mesh):\n",
    "    \"extracts a p3js compatible vertex list from a netgen.occ Mesh\"\n",
    "    combined_vertices = [] # flat array of vertices of all faces\n",
    "    all_vertices = [vert.point for vert in mesh.vertices] # all available vertices\n",
    "\n",
    "    # throw all vertices of all faces into combined_vertices\n",
    "    for face in mesh.faces:\n",
    "        for vertex in face.vertices:\n",
    "            point = all_vertices[vertex.nr]\n",
    "            combined_vertices.append(point)\n",
    "            \n",
    "    return np.array(combined_vertices, dtype=np.float32)"
   ]
  },
  {
   "cell_type": "code",
   "execution_count": 4,
   "id": "1dbdc0df-703e-4ec9-9f76-3bbdb9348b13",
   "metadata": {},
   "outputs": [],
   "source": [
    "view_width = 600\n",
    "view_height = 400\n",
    "\n",
    "# set up pythreejs 3d object\n",
    "original_vertices = extract_vertices(mesh)\n",
    "buffergeom = p3.BufferGeometry(attributes = {\"position\" : p3.BufferAttribute(original_vertices, normalized=False)})\n",
    "material = p3.MeshPhongMaterial(color='#ff3333', shininess=150, morphTargets=True, side=\"DoubleSide\")\n",
    "p3mesh = p3.Mesh(buffergeom, material, position=(0,0,0))\n",
    "\n",
    "# extra scene contents\n",
    "camera = p3.PerspectiveCamera( position=[10, 6, 10], aspect=view_width/view_height)\n",
    "key_light = p3.DirectionalLight(position=[0, 10, 10])\n",
    "ambient_light = p3.AmbientLight()\n",
    "\n",
    "# set up scene\n",
    "scene = p3.Scene(children=[p3mesh, camera, key_light, ambient_light])\n",
    "controller = p3.OrbitControls(controlling=camera)\n",
    "renderer = p3.Renderer(camera=camera, scene=scene, controls=[controller],\n",
    "                    width=view_width, height=view_height, antialias=True) # if performance is bad, try removing antalias=True"
   ]
  },
  {
   "cell_type": "code",
   "execution_count": 5,
   "id": "118ca51d-42ff-48f1-9f2f-9f726df4ec55",
   "metadata": {},
   "outputs": [
    {
     "data": {
      "application/vnd.jupyter.widget-view+json": {
       "model_id": "c446140cf90f4d3eb12f4c195db9f59e",
       "version_major": 2,
       "version_minor": 0
      },
      "text/plain": [
       "Renderer(camera=PerspectiveCamera(aspect=1.5, position=(10.0, 6.0, 10.0), projectionMatrix=(1.0, 0.0, 0.0, 0.0…"
      ]
     },
     "metadata": {},
     "output_type": "display_data"
    },
    {
     "ename": "KeyboardInterrupt",
     "evalue": "",
     "output_type": "error",
     "traceback": [
      "\u001b[0;31m---------------------------------------------------------------------------\u001b[0m",
      "\u001b[0;31mKeyboardInterrupt\u001b[0m                         Traceback (most recent call last)",
      "Cell \u001b[0;32mIn[5], line 16\u001b[0m\n\u001b[1;32m     13\u001b[0m current_vertices[:,\u001b[38;5;241m0\u001b[39m] \u001b[38;5;241m+\u001b[39m\u001b[38;5;241m=\u001b[39m \u001b[38;5;241m0.1\u001b[39m\n\u001b[1;32m     14\u001b[0m p3mesh\u001b[38;5;241m.\u001b[39mgeometry \u001b[38;5;241m=\u001b[39m p3\u001b[38;5;241m.\u001b[39mBufferGeometry(attributes \u001b[38;5;241m=\u001b[39m {\u001b[38;5;124m\"\u001b[39m\u001b[38;5;124mposition\u001b[39m\u001b[38;5;124m\"\u001b[39m : p3\u001b[38;5;241m.\u001b[39mBufferAttribute(current_vertices, normalized\u001b[38;5;241m=\u001b[39m\u001b[38;5;28;01mFalse\u001b[39;00m)})\n\u001b[0;32m---> 16\u001b[0m time\u001b[38;5;241m.\u001b[39msleep(\u001b[38;5;241m1\u001b[39m\u001b[38;5;241m/\u001b[39m\u001b[38;5;241m30\u001b[39m)\n",
      "\u001b[0;31mKeyboardInterrupt\u001b[0m: "
     ]
    }
   ],
   "source": [
    "display(renderer)\n",
    "\n",
    "current_vertices = original_vertices\n",
    "\n",
    "# set up simulation object\n",
    "# rbody = rigid_body.RigidBody()\n",
    "\n",
    "for i in range(10000):\n",
    "    t = i/30\n",
    "\n",
    "    # update vertex positions\n",
    "    # rigid_body.update(original_vertices.data, t)\n",
    "    current_vertices[:,0] += 0.1\n",
    "    p3mesh.geometry = p3.BufferGeometry(attributes = {\"position\" : p3.BufferAttribute(current_vertices, normalized=False)})\n",
    "\n",
    "    time.sleep(1/30)"
   ]
  },
  {
   "cell_type": "code",
   "execution_count": null,
   "id": "c5526bef-21cd-4e4a-b3ce-3d6d14a3c4ee",
   "metadata": {},
   "outputs": [],
   "source": []
  }
 ],
 "metadata": {
  "kernelspec": {
   "display_name": "semsc",
   "language": "python",
   "name": "semsc"
  },
  "language_info": {
   "codemirror_mode": {
    "name": "ipython",
    "version": 3
   },
   "file_extension": ".py",
   "mimetype": "text/x-python",
   "name": "python",
   "nbconvert_exporter": "python",
   "pygments_lexer": "ipython3",
   "version": "3.11.8"
  }
 },
 "nbformat": 4,
 "nbformat_minor": 5
}
