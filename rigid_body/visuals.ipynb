{
 "cells": [
  {
   "cell_type": "code",
   "execution_count": 1,
   "id": "1257c4a8-4bd0-4647-ae95-160dc125c443",
   "metadata": {},
   "outputs": [],
   "source": [
    "from netgen.occ import *\n",
    "from ngsolve import Mesh\n",
    "\n",
    "import sys\n",
    "sys.path.append(\"../build/rigid_body\")\n",
    "from rigid_body import *\n",
    "\n",
    "import pythreejs as p3\n",
    "\n",
    "# import numpy as np\n",
    "from IPython.display import display\n",
    "import ipywidgets as widgets\n",
    "# import time"
   ]
  },
  {
   "cell_type": "code",
   "execution_count": 2,
   "id": "bf6e80a0-d42c-4425-a739-de6696f2b75b",
   "metadata": {},
   "outputs": [],
   "source": [
    "# set up OCC CAD model\n",
    "box = Box(Pnt(-0.5,-0.5,-0.5), Pnt(0.5,0.5,0.5))\n",
    "geo = OCCGeometry(box)\n",
    "mesh = Mesh(geo.GenerateMesh(maxh=0.5))"
   ]
  },
  {
   "cell_type": "code",
   "execution_count": 3,
   "id": "ff9020a8-abc0-493b-b3ad-42914b2fa409",
   "metadata": {},
   "outputs": [],
   "source": [
    "# from ngsolve.webgui import Draw\n",
    "# Draw(mesh)"
   ]
  },
  {
   "cell_type": "code",
   "execution_count": 4,
   "id": "20f4548f-b512-4fa9-8f69-c18104385a55",
   "metadata": {},
   "outputs": [],
   "source": [
    "def extract_vertices(mesh: Mesh):\n",
    "    \"extracts a p3js compatible vertex list from a netgen.occ Mesh\"\n",
    "    combined_vertices = [] # flat array of vertices of all faces\n",
    "    all_vertices = [vert.point for vert in mesh.vertices] # all available vertices\n",
    "\n",
    "    # throw all vertices of all faces into combined_vertices\n",
    "    for face in mesh.faces:\n",
    "        for vertex in face.vertices:\n",
    "            point = all_vertices[vertex.nr]\n",
    "            combined_vertices.append(point)\n",
    "            \n",
    "    return np.array(combined_vertices, dtype=np.float32)"
   ]
  },
  {
   "cell_type": "code",
   "execution_count": 5,
   "id": "1dbdc0df-703e-4ec9-9f76-3bbdb9348b13",
   "metadata": {},
   "outputs": [],
   "source": [
    "view_width = 600\n",
    "view_height = 400\n",
    "\n",
    "# set up pythreejs 3d object\n",
    "original_vertices = extract_vertices(mesh)\n",
    "buffergeom = p3.BufferGeometry(attributes = {\"position\" : p3.BufferAttribute(original_vertices, normalized=False)})\n",
    "buffergeom.exec_three_obj_method(\"computeVertexNormals\") # gives normals for shading\n",
    "material = p3.MeshPhongMaterial(color='#ff3333', shininess=150, morphTargets=True, side=\"DoubleSide\")\n",
    "p3mesh = p3.Mesh(buffergeom, material, position=(0,0,0))\n",
    "\n",
    "# extra scene contents\n",
    "camera = p3.PerspectiveCamera( position=[10, 6, 10], aspect=view_width/view_height)\n",
    "key_light = p3.DirectionalLight(position=[0, 10, 10])\n",
    "ambient_light = p3.AmbientLight()\n",
    "grid = p3.GridHelper(500, 500//5, \"#2F4F4F\", \"#2F4F4F\")\n",
    "\n",
    "# set up scene\n",
    "scene = p3.Scene(children=[p3mesh, camera, key_light, ambient_light, grid])\n",
    "controller = p3.OrbitControls(controlling=camera)\n",
    "renderer = p3.Renderer(camera=camera, scene=scene, controls=[controller],\n",
    "                    width=view_width, height=view_height, antialias=True) # if performance is bad, try removing antalias=True"
   ]
  },
  {
   "cell_type": "code",
   "execution_count": 6,
   "id": "bd6df028-10d7-4932-99cf-eb61bf3bc1cc",
   "metadata": {},
   "outputs": [],
   "source": [
    "# set up physics simulation object\n",
    "r = RigidBody()\n",
    "r.setMass(mass_cube())\n",
    "\n",
    "t = Transformation()\n",
    "t.setTranslation(0.0,0,0)\n",
    "t.setRotation(0,2,0.009)\n",
    "t.setRotation(0,1,0.009)\n",
    "r.dq=t\n"
   ]
  },
  {
   "cell_type": "code",
   "execution_count": 7,
   "id": "ed9c75ce-17b1-4c95-ad3b-71f2caffe2be",
   "metadata": {},
   "outputs": [],
   "source": [
    "# print(r.q)"
   ]
  },
  {
   "cell_type": "code",
   "execution_count": 8,
   "id": "a9965a05-947e-4536-95ac-2421b1b9bb91",
   "metadata": {},
   "outputs": [],
   "source": [
    "# play button\n",
    "play = widgets.Play(\n",
    "    value=10,\n",
    "    min=0,\n",
    "    max=10000,\n",
    "    step=1,\n",
    "    interval=100/30,\n",
    "    description=\"Press play\",\n",
    "    disabled=False\n",
    ")\n"
   ]
  },
  {
   "cell_type": "code",
   "execution_count": 9,
   "id": "118ca51d-42ff-48f1-9f2f-9f726df4ec55",
   "metadata": {},
   "outputs": [],
   "source": [
    "p3mesh.matrixAutoUpdate = False\n",
    "\n",
    "def update():\n",
    "    \"update function, gets called every timestep\"\n",
    "    r.simulate(5,5)\n",
    "\n",
    "    p3mesh.matrix=r.q.asTuple()\n",
    "\n",
    "def reset():\n",
    "    \"resets the simulation on button press\"\n",
    "    # TODO\n",
    "    print(\"reset\") # note the blue icon in the lower right of jupyter\n",
    "\n",
    "\n",
    "def observer(x):\n",
    "    \"event handler for clickable buttons\"\n",
    "    # if there is a change in time\n",
    "    if x[\"type\"] == \"change\":\n",
    "        # it might be a reset (or rewind, which is used as an alias to reset)\n",
    "        if str(x[\"new\"]) == \"0\" or x[\"name\"] == \"repeat\":\n",
    "            reset()\n",
    "        # or it might be a progress in time\n",
    "        else:\n",
    "            pass\n",
    "            # update()\n",
    "\n",
    "play.observe(observer)\n"
   ]
  },
  {
   "cell_type": "code",
   "execution_count": 10,
   "id": "c24ce734-6568-4e53-b187-e8d80cb099f1",
   "metadata": {},
   "outputs": [
    {
     "data": {
      "application/vnd.jupyter.widget-view+json": {
       "model_id": "6f8dd279cb9e4c55a2a1ccae3bbaafc1",
       "version_major": 2,
       "version_minor": 0
      },
      "text/plain": [
       "Play(value=10, description='Press play', interval=3, max=10000)"
      ]
     },
     "metadata": {},
     "output_type": "display_data"
    },
    {
     "data": {
      "application/vnd.jupyter.widget-view+json": {
       "model_id": "be0beb6e964042869514ffe4fca1d0f1",
       "version_major": 2,
       "version_minor": 0
      },
      "text/plain": [
       "Renderer(camera=PerspectiveCamera(aspect=1.5, position=(10.0, 6.0, 10.0), projectionMatrix=(1.0, 0.0, 0.0, 0.0…"
      ]
     },
     "metadata": {},
     "output_type": "display_data"
    }
   ],
   "source": [
    "display(play)\n",
    "display(renderer)"
   ]
  },
  {
   "cell_type": "markdown",
   "id": "cd40b620-0d32-4912-8353-47f2ae73dc38",
   "metadata": {},
   "source": [
    "### click-and-drag to rotate, scroll to zoom, right-click-and-drag to move"
   ]
  },
  {
   "cell_type": "code",
   "execution_count": null,
   "id": "1a13c052-eaf8-40e2-8395-e1d085118bba",
   "metadata": {},
   "outputs": [],
   "source": []
  }
 ],
 "metadata": {
  "kernelspec": {
   "display_name": "Python 3 (ipykernel)",
   "language": "python",
   "name": "python3"
  },
  "language_info": {
   "codemirror_mode": {
    "name": "ipython",
    "version": 3
   },
   "file_extension": ".py",
   "mimetype": "text/x-python",
   "name": "python",
   "nbconvert_exporter": "python",
   "pygments_lexer": "ipython3",
   "version": "3.11.8"
  }
 },
 "nbformat": 4,
 "nbformat_minor": 5
}
