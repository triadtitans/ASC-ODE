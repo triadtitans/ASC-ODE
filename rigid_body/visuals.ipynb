{
 "cells": [
  {
   "cell_type": "code",
   "execution_count": 1,
   "id": "1257c4a8-4bd0-4647-ae95-160dc125c443",
   "metadata": {},
   "outputs": [],
   "source": [
    "from netgen.occ import *\n",
    "\n",
    "import sys\n",
    "sys.path.append(\"../build/rigid_body\")\n",
    "from rigid_body import *\n",
    "import rigid_body.bla as bla\n",
    "\n",
    "import pythreejs as p3\n",
    "\n",
    "from IPython.display import display\n",
    "import ipywidgets as widgets"
   ]
  },
  {
   "cell_type": "code",
   "execution_count": 2,
   "id": "bf6e80a0-d42c-4425-a739-de6696f2b75b",
   "metadata": {},
   "outputs": [],
   "source": [
    "# set up OCC CAD model\n",
    "box = Box(Pnt(-0.5,-0.5,-0.5), Pnt(0.5,0.5,0.5))\n",
    "# important: move the center of mass into the origin\n",
    "box = box.Move((-box.center[0], -box.center[1], -box.center[2]))"
   ]
  },
  {
   "cell_type": "code",
   "execution_count": 3,
   "id": "ff9020a8-abc0-493b-b3ad-42914b2fa409",
   "metadata": {},
   "outputs": [],
   "source": [
    "# from ngsolve.webgui import Draw\n",
    "# Draw(mesh)"
   ]
  },
  {
   "cell_type": "code",
   "execution_count": 4,
   "id": "a4db6039-5747-4850-bba3-b9ade6445e9e",
   "metadata": {},
   "outputs": [],
   "source": [
    "def mass_matrix_from_solid(obj):\n",
    "    \"extracts the mass matrix of the TopAbs_ShapeEnum.SOLID obj, using the figures computed by netgen\"\n",
    "    \n",
    "    # copy the inertia matrix from netgen\n",
    "    inertia_matrix = bla.Matrix(3,3)\n",
    "    for i in range(3):\n",
    "        for j in range(3):\n",
    "            inertia_matrix[i, j] = obj.inertia[i, j]\n",
    "\n",
    "    # copy the center of mass from netgen\n",
    "    center_of_mass = bla.Vector(3)\n",
    "    for i in range(3): center_of_mass[i] = obj.center[i]\n",
    "\n",
    "    # rearrange it in C++ to make the mass matrix (the elegant way, using MatrixView)\n",
    "    mass_matrix = mass_matrix_from_inertia(inertia_matrix, center_of_mass, obj.mass)\n",
    "    return mass_matrix\n",
    "\n",
    "mass_matrix = mass_matrix_from_solid(box)\n",
    "# print(mass_matrix)\n",
    "#for i in range(18):\n",
    "#    for j in range(18):\n",
    "#        print(F\"{round(mass_matrix[i, j], 5)}, \", end=\"\")\n",
    "#    print(\"\\\\\")\n",
    "def body_from_solid(obj):\n",
    "    \"extracts the mass matrix of the TopAbs_ShapeEnum.SOLID obj, using the figures computed by netgen\"\n",
    "    \n",
    "    # copy the inertia matrix from netgen\n",
    "    inertia_matrix = bla.Matrix(3,3)\n",
    "    for i in range(3):\n",
    "        for j in range(3):\n",
    "            inertia_matrix[i, j] = obj.inertia[i, j]\n",
    "\n",
    "    # copy the center of mass from netgen\n",
    "    center_of_mass = bla.Vector(3)\n",
    "    for i in range(3): center_of_mass[i] = obj.center[i]\n",
    "\n",
    "    # rearrange it in C++ to make the mass matrix (the elegant way, using MatrixView)\n",
    "    body = RigidBody()\n",
    "    for i in range(3) : body.center[i] = obj.center[i]\n",
    "    body.mass = obj.mass\n",
    "    body.inertia = inertia_matrix\n",
    "    body.recalcMassMatrix()\n",
    "    \n",
    "    return body"
   ]
  },
  {
   "cell_type": "code",
   "execution_count": 5,
   "id": "20f4548f-b512-4fa9-8f69-c18104385a55",
   "metadata": {},
   "outputs": [],
   "source": [
    "def extract_vertices(obj: TopoDS_Shape):\n",
    "    \"extracts a p3js compatible vertex list from a netgen.occ TopoDS_Shape\"\n",
    "    data = obj._webgui_data()[\"Bezier_trig_points\"]\n",
    "    #print(*data, sep=\"\\n\")\n",
    "    x = data[0]\n",
    "    y = data[1]\n",
    "    z = data[2]\n",
    "    nx = data[3]\n",
    "    ny = data[4]\n",
    "    nz = data[5]\n",
    "\n",
    "    combined_vertices = []\n",
    "    for i in range(0, len(x), 4):\n",
    "        combined_vertices.append(x[i : i+3])\n",
    "        combined_vertices.append(y[i : i+3])\n",
    "        combined_vertices.append(z[i : i+3])\n",
    "\n",
    "    combined_normals = []\n",
    "    for i in range(0, len(nx), 3):\n",
    "        combined_normals.append(nx[i : i+3])\n",
    "        combined_normals.append(ny[i : i+3])\n",
    "        combined_normals.append(nz[i : i+3])\n",
    "            \n",
    "    return combined_vertices, combined_normals"
   ]
  },
  {
   "cell_type": "code",
   "execution_count": 6,
   "id": "1dbdc0df-703e-4ec9-9f76-3bbdb9348b13",
   "metadata": {},
   "outputs": [],
   "source": [
    "view_width = 1000\n",
    "view_height = 800\n",
    "\n",
    "# set up pythreejs 3d object\n",
    "vertices, normals = extract_vertices(box)\n",
    "buffergeom = p3.BufferGeometry(attributes = {\"position\" : p3.BufferAttribute(vertices), \"normal\" : p3.BufferAttribute(normals)})\n",
    "# buffergeom.exec_three_obj_method(\"computeVertexNormals\") # gives normals for shading\n",
    "material = p3.MeshPhongMaterial(color='#ff3333', shininess=150, morphTargets=True, side=\"DoubleSide\")\n",
    "p3mesh = p3.Mesh(buffergeom, material, position=(0,0,0))\n",
    "\n",
    "# extra scene contents\n",
    "camera = p3.PerspectiveCamera( position=[10, 6, 10], aspect=view_width/view_height)\n",
    "key_light = p3.DirectionalLight(position=[0, 10, 10])\n",
    "ambient_light = p3.AmbientLight()\n",
    "grid = p3.GridHelper(500, 500//5, \"#2F4F4F\", \"#2F4F4F\")\n",
    "\n",
    "# set up scene\n",
    "scene = p3.Scene(children=[p3mesh, camera, key_light, ambient_light, grid])\n",
    "controller = p3.OrbitControls(controlling=camera)\n",
    "renderer = p3.Renderer(camera=camera, scene=scene, controls=[controller],\n",
    "                    width=view_width, height=view_height, antialias=True) # if performance is bad, try removing antalias=True"
   ]
  },
  {
   "cell_type": "code",
   "execution_count": 7,
   "id": "bd6df028-10d7-4932-99cf-eb61bf3bc1cc",
   "metadata": {},
   "outputs": [],
   "source": [
    "# set up physics simulation object\n",
    "r =  body_from_solid(box)\n",
    "\n",
    "t = Transformation()\n",
    "t.setTranslation(0.1,0,0)\n",
    "t.setRotation(0,2,0.009)\n",
    "t.setRotation(2,0,-0.009)\n",
    "r.dq=t\n",
    "\n",
    "# save a restore point for the reset button\n",
    "r.saveState()"
   ]
  },
  {
   "cell_type": "code",
   "execution_count": 8,
   "id": "ed9c75ce-17b1-4c95-ad3b-71f2caffe2be",
   "metadata": {},
   "outputs": [
    {
     "name": "stdout",
     "output_type": "stream",
     "text": [
      " Translation: \t0.000000 ,0.000000, , 0.000000\n",
      " Rotation: \t1.000000 ,0.000000, , 0.000000\n",
      " \t\t0.000000 ,1.000000, , 0.000000\n",
      "\t\t0.000000 ,0.000000, , 1.000000\n",
      "\n"
     ]
    }
   ],
   "source": [
    "print(r.q)"
   ]
  },
  {
   "cell_type": "code",
   "execution_count": 9,
   "id": "a9965a05-947e-4536-95ac-2421b1b9bb91",
   "metadata": {},
   "outputs": [],
   "source": [
    "# play/reset button\n",
    "play = widgets.Play(\n",
    "    value=10,\n",
    "    min=0,\n",
    "    max=10000,\n",
    "    step=1,\n",
    "    interval=100/30,\n",
    "    description=\"Press play\",\n",
    "    disabled=False\n",
    ")"
   ]
  },
  {
   "cell_type": "code",
   "execution_count": 10,
   "id": "118ca51d-42ff-48f1-9f2f-9f726df4ec55",
   "metadata": {},
   "outputs": [],
   "source": [
    "p3mesh.matrixAutoUpdate = False # make mesh movable\n",
    "\n",
    "def update():\n",
    "    \"update function, gets called every timestep; quasi main loop\"\n",
    "    r.simulate(5,5)\n",
    "    p3mesh.matrix=r.q.asTuple()\n",
    "\n",
    "def observer(state):\n",
    "    \"event handler for clickable buttons\"\n",
    "    # if there is a change in time\n",
    "    if state[\"name\"] == \"value\":\n",
    "        # it might be a reset\n",
    "        if str(state[\"new\"]) == \"0\":\n",
    "            r.reset()\n",
    "            p3mesh.matrix=r.q.asTuple()\n",
    "        # or it might be a progress in time\n",
    "        else:\n",
    "            update()\n",
    "    # repeat is used as an alias to reset\n",
    "    elif state[\"name\"] == \"repeat\":\n",
    "        r.reset()\n",
    "        p3mesh.matrix=r.q.asTuple()\n",
    "\n",
    "play.observe(observer)\n"
   ]
  },
  {
   "cell_type": "code",
   "execution_count": 11,
   "id": "c24ce734-6568-4e53-b187-e8d80cb099f1",
   "metadata": {},
   "outputs": [
    {
     "data": {
      "application/vnd.jupyter.widget-view+json": {
       "model_id": "b11b15aa5a7144b0922d68494ee8b8d3",
       "version_major": 2,
       "version_minor": 0
      },
      "text/plain": [
       "HBox(children=(Play(value=10, description='Press play', interval=3, max=10000), HTML(value='<b>click-and-drag …"
      ]
     },
     "metadata": {},
     "output_type": "display_data"
    },
    {
     "data": {
      "application/vnd.jupyter.widget-view+json": {
       "model_id": "15274c55997b48c58c92dc24616b9c07",
       "version_major": 2,
       "version_minor": 0
      },
      "text/plain": [
       "Renderer(camera=PerspectiveCamera(aspect=1.25, position=(10.0, 6.0, 10.0), projectionMatrix=(1.0, 0.0, 0.0, 0.…"
      ]
     },
     "metadata": {},
     "output_type": "display_data"
    }
   ],
   "source": [
    "display(widgets.HBox([play, widgets.HTML(\"<b>click-and-drag to rotate, scroll to zoom, right-click-and-drag to move<b>\")]))\n",
    "display(renderer)"
   ]
  },
  {
   "cell_type": "code",
   "execution_count": null,
   "id": "a2940045-6c67-41e8-b7c7-826226dfee62",
   "metadata": {},
   "outputs": [],
   "source": []
  }
 ],
 "metadata": {
  "kernelspec": {
   "display_name": "Python 3 (ipykernel)",
   "language": "python",
   "name": "python3"
  },
  "language_info": {
   "codemirror_mode": {
    "name": "ipython",
    "version": 3
   },
   "file_extension": ".py",
   "mimetype": "text/x-python",
   "name": "python",
   "nbconvert_exporter": "python",
   "pygments_lexer": "ipython3",
   "version": "3.11.8"
  }
 },
 "nbformat": 4,
 "nbformat_minor": 5
}
