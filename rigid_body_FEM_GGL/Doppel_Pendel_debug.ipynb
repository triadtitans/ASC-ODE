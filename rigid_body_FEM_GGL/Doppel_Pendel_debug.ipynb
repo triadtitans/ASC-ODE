{
 "cells": [
  {
   "cell_type": "code",
   "execution_count": 1,
   "id": "1257c4a8-4bd0-4647-ae95-160dc125c443",
   "metadata": {
    "editable": true,
    "slideshow": {
     "slide_type": ""
    },
    "tags": []
   },
   "outputs": [],
   "source": [
    "from netgen.occ import *\n",
    "\n",
    "import sys\n",
    "sys.path.append(\"../build/rigid_body_FEM_GGL\")\n",
    "from rigid_body_FEM_GGL import *\n",
    "import rigid_body_FEM_GGL.bla as bla\n",
    "\n",
    "import pythreejs as p3\n",
    "\n",
    "from IPython.display import display\n",
    "import ipywidgets as widgets"
   ]
  },
  {
   "cell_type": "markdown",
   "id": "a009e1a4-8e2e-47ad-8bb0-b4369843f556",
   "metadata": {
    "editable": true,
    "slideshow": {
     "slide_type": ""
    },
    "tags": []
   },
   "source": [
    "### Helper Functions for body setup"
   ]
  },
  {
   "cell_type": "code",
   "execution_count": 2,
   "id": "a4db6039-5747-4850-bba3-b9ade6445e9e",
   "metadata": {
    "editable": true,
    "slideshow": {
     "slide_type": ""
    },
    "tags": []
   },
   "outputs": [],
   "source": [
    "def extract_vertices(obj: TopoDS_Shape):\n",
    "    \"extracts a p3js compatible vertex list from a netgen.occ TopoDS_Shape\"\n",
    "    \n",
    "    data = obj._webgui_data()[\"Bezier_trig_points\"]\n",
    "    \n",
    "    # for every face, each of the verts arrays holds one vertex\n",
    "    verts1 = data[0]\n",
    "    verts2 = data[1]\n",
    "    verts3 = data[2]\n",
    "    \n",
    "    # corresponding normals\n",
    "    normals1 = data[3]\n",
    "    normals2 = data[4]\n",
    "    normals3 = data[5]\n",
    "\n",
    "    combined_vertices = []\n",
    "    for i in range(0, len(verts1), 4):\n",
    "        combined_vertices.append(verts1[i : i+3])\n",
    "        combined_vertices.append(verts2[i : i+3])\n",
    "        combined_vertices.append(verts3[i : i+3])\n",
    "\n",
    "    combined_normals = []\n",
    "    for i in range(0, len(normals1), 3):\n",
    "        combined_normals.append(normals1[i : i+3])\n",
    "        combined_normals.append(normals2[i : i+3])\n",
    "        combined_normals.append(normals3[i : i+3])\n",
    "            \n",
    "    return combined_vertices, combined_normals\n",
    "\n",
    "\n",
    "def body_from_solid(obj):\n",
    "    \"extracts the mass matrix of the TopAbs_ShapeEnum.SOLID obj, using the figures computed by netgen\"\n",
    "\n",
    "    # important: move the center of mass into the origin\n",
    "    obj = obj.Move((-obj.center[0], -obj.center[1], -obj.center[2]))\n",
    "    \n",
    "    # copy the inertia matrix from netgen\n",
    "    #inertia_matrix = bla.Matrix(3,3)\n",
    "    #for i in range(3):\n",
    "    #    for j in range(3):\n",
    "    #        inertia_matrix[i, j] = obj.inertia[i, j]\n",
    "\n",
    "    # copy the center of mass from netgen\n",
    "    #center_of_mass = bla.Vector(3)\n",
    "    #for i in range(3): center_of_mass[i] = obj.center[i]\n",
    "\n",
    "    # rearrange it in C++ to make the mass matrix (the elegant way, using MatrixView)\n",
    "    body = RigidBody_FEM_GGL()\n",
    "    #for i in range(3) : body.center[i] = obj.center[i]\n",
    "    #body.mass = obj.mass\n",
    "    #body.inertia = inertia_matrix\n",
    "    #body.recalcMassMatrix()\n",
    "\n",
    "    body.vertices, body.normals = extract_vertices(obj)\n",
    "    \n",
    "    return body"
   ]
  },
  {
   "cell_type": "markdown",
   "id": "5904e0c1-20ac-45e9-9587-728549d21cfd",
   "metadata": {},
   "source": [
    "## Setup System"
   ]
  },
  {
   "cell_type": "code",
   "execution_count": 3,
   "id": "bf6e80a0-d42c-4425-a739-de6696f2b75b",
   "metadata": {
    "editable": true,
    "slideshow": {
     "slide_type": ""
    },
    "tags": []
   },
   "outputs": [],
   "source": [
    "# set up OCC CAD model\n",
    "# center of mass is automatically moved to origin by body_from_solid\n",
    "box = Box(Pnt(-0.5,-0.5,-0.5), Pnt(0.5,0.5,0.5))"
   ]
  },
  {
   "cell_type": "code",
   "execution_count": 4,
   "id": "bd6df028-10d7-4932-99cf-eb61bf3bc1cc",
   "metadata": {
    "editable": true,
    "slideshow": {
     "slide_type": ""
    },
    "tags": []
   },
   "outputs": [
    {
     "name": "stdout",
     "output_type": "stream",
     "text": [
      " Translation: \t3.000000 ,3.000000, , 3.000000\n",
      " Rotation: \t1.000000 ,0.000000, , 0.000000\n",
      " \t\t0.000000 ,1.000000, , 0.000000\n",
      "\t\t0.000000 ,0.000000, , 1.000000\n",
      "\n",
      " Translation: \t0.000000 ,0.000000, , 0.000000\n",
      " Rotation: \t1.000000 ,0.000000, , 0.000000\n",
      " \t\t0.000000 ,1.000000, , 0.000000\n",
      "\t\t0.000000 ,0.000000, , 1.000000\n",
      "\n",
      "(-1.0, 0.0, 3.0)\n",
      "Body Info Index: 0\n",
      "q: 0, 0, 0, 1, 0, 0, 0, 1, 0, 0, 0, 1\n",
      "phat: 0, 0, 0, 0, 0, 0\n",
      "initialq: 0, 0, 0, 1, 0, 0, 0, 1, 0, 0, 0, 1\n",
      "initialphat: 0, 0, 0, 0, 0, 0\n",
      "mass: 1\n",
      "mass Matrix: \n",
      "1 0 0 0 0 0 \n",
      "0 1 0 0 0 0 \n",
      "0 0 1 0 0 0 \n",
      "0 0 0 1 0 0 \n",
      "0 0 0 0 1 0 \n",
      "0 0 0 0 0 1 \n",
      "\n",
      "mass matrix inverse: \n",
      "1 0 0 0 0 0 \n",
      "0 1 0 0 0 0 \n",
      "0 0 1 0 0 0 \n",
      "0 0 0 1 0 0 \n",
      "0 0 0 0 1 0 \n",
      "0 0 0 0 0 1 \n",
      "\n",
      "Connected_Bodies: 0 1 \n",
      "Center: 0, 0, 0\n",
      "Springs Index: \n",
      "Beams Index: 0 1 \n",
      "Body 0 end!\n",
      "\n",
      "Body Info Index: 1\n",
      "q: 3, 3, 3, 1, 0, 0, 0, 1, 0, 0, 0, 1\n",
      "phat: 0, 0, 0, 0, 0, 0\n",
      "initialq: 3, 3, 3, 1, 0, 0, 0, 1, 0, 0, 0, 1\n",
      "initialphat: 0, 0, 0, 0, 0, 0\n",
      "mass: 1\n",
      "mass Matrix: \n",
      "1 0 0 0 0 0 \n",
      "0 1 0 0 0 0 \n",
      "0 0 1 0 0 0 \n",
      "0 0 0 1 0 0 \n",
      "0 0 0 0 1 0 \n",
      "0 0 0 0 0 1 \n",
      "\n",
      "mass matrix inverse: \n",
      "1 0 0 0 0 0 \n",
      "0 1 0 0 0 0 \n",
      "0 0 1 0 0 0 \n",
      "0 0 0 1 0 0 \n",
      "0 0 0 0 1 0 \n",
      "0 0 0 0 0 1 \n",
      "\n",
      "Connected_Bodies: 1 0 \n",
      "Center: 0, 0, 0\n",
      "Springs Index: \n",
      "Beams Index: 0 \n",
      "Body 1 end!\n",
      "\n",
      "Number of Springs in System: 0\n",
      "Number of Beams in System: 2\n",
      "Beam: 0\n",
      "Index: 0\n",
      "Length: 4.330127\n",
      "Connector A: \n",
      "Type: mass\n",
      "Body_index: 0\n",
      "Position: 0.000000, 0.000000, 0.000000\n",
      "\n",
      "Connector B: \n",
      "Type: mass\n",
      "Body_index: 1\n",
      "Position: -0.500000, -0.500000, -0.500000\n",
      "\n",
      "\n",
      "Beam: 1\n",
      "Index: 1\n",
      "Length: 3.162278\n",
      "Connector A: \n",
      "Type: fix\n",
      "Body_index: 0\n",
      "Position: -1.000000, 0.000000, 3.000000\n",
      "\n",
      "Connector B: \n",
      "Type: mass\n",
      "Body_index: 0\n",
      "Position: 0.000000, 0.000000, 0.000000\n",
      "\n",
      "\n",
      "0.000000, 0.000000, 9.810000\n"
     ]
    }
   ],
   "source": [
    "# set up physics simulation environment\n",
    "rbs = RBS_FEM_GGL()\n",
    "rbs.gravity = (0, 0, 9.81)\n",
    "\n",
    "# set up physics simulation object for cube\n",
    "r1 =  body_from_solid(box)\n",
    "\n",
    "r2 = body_from_solid(box)\n",
    "# r2.momentumRot = (0.01, 0, 0)\n",
    "p2 = Transformation()\n",
    "p2.setTranslation(3,3,3)\n",
    "r2.transformation=p2\n",
    "print(r2.transformation)\n",
    "\n",
    "c1 = rbs.add(r1)\n",
    "print(r1.transformation)\n",
    "# c1.pos = (0.5, 0.5, 0.5)\n",
    "c2 = rbs.add(r2)\n",
    "c2.pos = (-0.5, -0.5, -0.5)\n",
    "b = Beam(c1,c2)\n",
    "rbs.add(b)\n",
    "\n",
    "f1 = rbs.addFix()\n",
    "f1.pos = (-1, 0, 3)\n",
    "print(f1.pos)\n",
    "\n",
    "b = Beam(f1, c1)\n",
    "rbs.add(b)\n",
    "\n",
    "rbs.saveState()\n",
    "rbs.info_RBS()"
   ]
  },
  {
   "cell_type": "code",
   "execution_count": 5,
   "id": "c4cb7e20-5c61-475c-9588-e8b9b6d75a48",
   "metadata": {},
   "outputs": [],
   "source": [
    "simulate(rbs, 0.15/50, 1)"
   ]
  },
  {
   "cell_type": "code",
   "execution_count": 6,
   "id": "801e4888-eba8-49a9-8bab-fb09476777c3",
   "metadata": {},
   "outputs": [
    {
     "name": "stdout",
     "output_type": "stream",
     "text": [
      "Body Info Index: 0\n",
      "q: 0.000019, 0.000005, 0.000006, 1.000000, 0.000000, 0.000000, 0.000000, 1.000000, 0.000000, 0.000000, 0.000000, 1.000000\n",
      "phat: 0.012613, 0.003153, 0.004204, 0.000000, 0.000000, 0.000000\n",
      "initialq: 0.000000, 0.000000, 0.000000, 1.000000, 0.000000, 0.000000, 0.000000, 1.000000, 0.000000, 0.000000, 0.000000, 1.000000\n",
      "initialphat: 0.000000, 0.000000, 0.000000, 0.000000, 0.000000, 0.000000\n",
      "mass: 1.000000\n",
      "mass Matrix: \n",
      "1.000000 0.000000 0.000000 0.000000 0.000000 0.000000 \n",
      "0.000000 1.000000 0.000000 0.000000 0.000000 0.000000 \n",
      "0.000000 0.000000 1.000000 0.000000 0.000000 0.000000 \n",
      "0.000000 0.000000 0.000000 1.000000 0.000000 0.000000 \n",
      "0.000000 0.000000 0.000000 0.000000 1.000000 0.000000 \n",
      "0.000000 0.000000 0.000000 0.000000 0.000000 1.000000 \n",
      "\n",
      "mass matrix inverse: \n",
      "1.000000 0.000000 0.000000 0.000000 0.000000 0.000000 \n",
      "0.000000 1.000000 0.000000 0.000000 0.000000 0.000000 \n",
      "0.000000 0.000000 1.000000 0.000000 0.000000 0.000000 \n",
      "0.000000 0.000000 0.000000 1.000000 0.000000 0.000000 \n",
      "0.000000 0.000000 0.000000 0.000000 1.000000 0.000000 \n",
      "0.000000 0.000000 0.000000 0.000000 0.000000 1.000000 \n",
      "\n",
      "Connected_Bodies: 0 1 \n",
      "Center: 0.000000, 0.000000, 0.000000\n",
      "Springs Index: \n",
      "Beams Index: 0 1 \n",
      "Body 0 end!\n",
      "\n",
      "Body Info Index: 1\n",
      "q: 2.999995, 2.999995, 3.000039, 1.000000, -0.000000, -0.000000, 0.000000, 1.000000, -0.000000, 0.000000, 0.000000, 1.000000\n",
      "phat: -0.003153, -0.003153, 0.026277, 0.000000, -0.000000, 0.000000\n",
      "initialq: 3.000000, 3.000000, 3.000000, 1.000000, 0.000000, 0.000000, 0.000000, 1.000000, 0.000000, 0.000000, 0.000000, 1.000000\n",
      "initialphat: 0.000000, 0.000000, 0.000000, 0.000000, 0.000000, 0.000000\n",
      "mass: 1.000000\n",
      "mass Matrix: \n",
      "1.000000 0.000000 0.000000 0.000000 0.000000 0.000000 \n",
      "0.000000 1.000000 0.000000 0.000000 0.000000 0.000000 \n",
      "0.000000 0.000000 1.000000 0.000000 0.000000 0.000000 \n",
      "0.000000 0.000000 0.000000 1.000000 0.000000 0.000000 \n",
      "0.000000 0.000000 0.000000 0.000000 1.000000 0.000000 \n",
      "0.000000 0.000000 0.000000 0.000000 0.000000 1.000000 \n",
      "\n",
      "mass matrix inverse: \n",
      "1.000000 0.000000 0.000000 0.000000 0.000000 0.000000 \n",
      "0.000000 1.000000 0.000000 0.000000 0.000000 0.000000 \n",
      "0.000000 0.000000 1.000000 0.000000 0.000000 0.000000 \n",
      "0.000000 0.000000 0.000000 1.000000 0.000000 0.000000 \n",
      "0.000000 0.000000 0.000000 0.000000 1.000000 0.000000 \n",
      "0.000000 0.000000 0.000000 0.000000 0.000000 1.000000 \n",
      "\n",
      "Connected_Bodies: 1 0 \n",
      "Center: 0.000000, 0.000000, 0.000000\n",
      "Springs Index: \n",
      "Beams Index: 0 \n",
      "Body 1 end!\n",
      "\n",
      "Number of Springs in System: 0\n",
      "Number of Beams in System: 2\n",
      "Beam: 0\n",
      "Index: 0\n",
      "Length: 4.330127\n",
      "Connector A: \n",
      "Type: mass\n",
      "Body_index: 0\n",
      "Position: 0.000000, 0.000000, 0.000000\n",
      "\n",
      "Connector B: \n",
      "Type: mass\n",
      "Body_index: 1\n",
      "Position: -0.500000, -0.500000, -0.500000\n",
      "\n",
      "\n",
      "Beam: 1\n",
      "Index: 1\n",
      "Length: 3.162278\n",
      "Connector A: \n",
      "Type: fix\n",
      "Body_index: 0\n",
      "Position: -1.000000, 0.000000, 3.000000\n",
      "\n",
      "Connector B: \n",
      "Type: mass\n",
      "Body_index: 0\n",
      "Position: 0.000000, 0.000000, 0.000000\n",
      "\n",
      "\n",
      "0.000000, 0.000000, 9.810000\n"
     ]
    }
   ],
   "source": [
    "rbs.info_RBS()"
   ]
  },
  {
   "cell_type": "code",
   "execution_count": 7,
   "id": "b7edaab9-4d6f-4733-9741-0a4cd97250ba",
   "metadata": {},
   "outputs": [],
   "source": [
    "#simulate(rbs, 0.15/50, 1)"
   ]
  },
  {
   "cell_type": "code",
   "execution_count": 8,
   "id": "a0b36c33-1fca-4fe6-9217-f59ceca80868",
   "metadata": {},
   "outputs": [],
   "source": [
    "#simulate(rbs, 0.15/50, 1)"
   ]
  },
  {
   "cell_type": "markdown",
   "id": "bcbe3b20-ed92-438f-830d-88573e762fae",
   "metadata": {},
   "source": [
    "## Setup Graphics"
   ]
  },
  {
   "cell_type": "code",
   "execution_count": 9,
   "id": "c3ee5843-fe01-4ebf-822f-64a0e5dd74dc",
   "metadata": {},
   "outputs": [],
   "source": [
    "def appendConnector(c,connectors):\n",
    "    p = rbs.connectorPos(c)\n",
    "    if(c.type == 0):\n",
    "        color = 'green'\n",
    "    else :\n",
    "        color = 'black'\n",
    "    connectors.append(\n",
    "        p3.Mesh(p3.SphereBufferGeometry(0.2, 16, 16),\n",
    "             p3.MeshStandardMaterial(color=color),\n",
    "             position=(p[0], p[1], p[2])))\n",
    "\n",
    "def initConnectors(l):\n",
    "    connectors = []\n",
    "    for s in l:\n",
    "        cA = s.connectorA\n",
    "        cB = s.connectorB\n",
    "        appendConnector(cA,connectors);\n",
    "        appendConnector(cB,connectors);\n",
    "    return connectors\n",
    "    \n",
    "\n",
    "def updateConnectors(l, connectors):\n",
    "    for i in range(len(l)):\n",
    "        cA = l[i].connectorA\n",
    "        cB = l[i].connectorB\n",
    "        pA = rbs.connectorPos(cA);\n",
    "        pB = rbs.connectorPos(cB);\n",
    "        connectors[2*i].position = (pA[0], pA[1], pA[2])\n",
    "        connectors[2*i+1].position = (pB[0], pB[1], pB[2])\n",
    "\n",
    "def positionsOf(l):\n",
    "    res = []\n",
    "    for s in l:\n",
    "        cA = s.connectorA\n",
    "        cB = s.connectorB\n",
    "        pA = rbs.connectorPos(cA);\n",
    "        pB = rbs.connectorPos(cB);\n",
    "        res.append ([ [pA[0], pA[1], pA[2]], [pB[0], pB[1], pB[2]] ])\n",
    "    return res\n",
    "\n",
    "\n",
    "connectorsSprings = initConnectors(rbs.springs())\n",
    "springpos = positionsOf(rbs.springs())\n",
    "\n",
    "if springpos:\n",
    "    springgeo = p3.LineSegmentsGeometry(positions=springpos)\n",
    "    m2 = p3.LineMaterial(linewidth=3, color='cyan')\n",
    "    springs = p3.LineSegments2(springgeo, m2)\n",
    "\n",
    "connectorsBeams = initConnectors(rbs.beams())\n",
    "beampos = positionsOf(rbs.beams())\n",
    "\n",
    "if beampos:\n",
    "    beamgeo = p3.LineSegmentsGeometry(positions=beampos)\n",
    "    m2 = p3.LineMaterial(linewidth=4, color='blue')\n",
    "    beams = p3.LineSegments2(beamgeo, m2)\n"
   ]
  },
  {
   "cell_type": "code",
   "execution_count": 10,
   "id": "1dbdc0df-703e-4ec9-9f76-3bbdb9348b13",
   "metadata": {
    "editable": true,
    "slideshow": {
     "slide_type": ""
    },
    "tags": []
   },
   "outputs": [],
   "source": [
    "view_width = 1000\n",
    "view_height = 700\n",
    "buffergeos = []\n",
    "p3meshes = []\n",
    "\n",
    "# set up pythreejs 3d objects\n",
    "for body in rbs.bodies():\n",
    "    buffergeom = p3.BufferGeometry(attributes = {\"position\" : p3.BufferAttribute(body.vertices), \"normal\" : p3.BufferAttribute(body.normals)})\n",
    "    material = p3.MeshPhongMaterial(color='#ff3333', shininess=150, morphTargets=True, side=\"DoubleSide\")\n",
    "    p3mesh = p3.Mesh(buffergeom, material, position=(0,0,0))\n",
    "    buffergeos.append(buffergeom)\n",
    "    p3meshes.append(p3mesh)\n",
    "\n",
    "# extra scene contents\n",
    "camera = p3.PerspectiveCamera( position=[10, 6, 10], aspect=view_width/view_height)\n",
    "key_light = p3.DirectionalLight(position=[0, 10, 10])\n",
    "ambient_light = p3.AmbientLight()\n",
    "grid = p3.GridHelper(500, 500//5, \"#2F4F4F\", \"#2F4F4F\")\n",
    "axesHelper = p3.AxesHelper(5)\n",
    "\n",
    "# set up scene\n",
    "scene = p3.Scene(children=[camera, key_light, ambient_light, grid, axesHelper, *p3meshes, *connectorsSprings, *connectorsBeams] + ([] if not springpos else [springs])+ ([] if not beampos else [beams]))\n",
    "controller = p3.OrbitControls(controlling=camera)\n",
    "renderer = p3.Renderer(camera=camera, scene=scene, controls=[controller],\n",
    "                    width=view_width, height=view_height, antialias=True) # if performance is bad, try removing antalias=True"
   ]
  },
  {
   "cell_type": "code",
   "execution_count": 11,
   "id": "a9965a05-947e-4536-95ac-2421b1b9bb91",
   "metadata": {},
   "outputs": [],
   "source": [
    "# play/reset button\n",
    "play = widgets.Play(\n",
    "    value=0,\n",
    "    min=0,\n",
    "    max=10000,\n",
    "    step=1,\n",
    "    interval=1,\n",
    "    description=\"Press play\",\n",
    "    disabled=False\n",
    ")"
   ]
  },
  {
   "cell_type": "code",
   "execution_count": 12,
   "id": "118ca51d-42ff-48f1-9f2f-9f726df4ec55",
   "metadata": {},
   "outputs": [],
   "source": [
    "for m in p3meshes:\n",
    "    m.matrixAutoUpdate = False # make mesh movable\n",
    "\n",
    "def refresh():\n",
    "    \"updates all pythreejs object transformations\"\n",
    "    for i in range(0, len(rbs.bodies())):\n",
    "        p3meshes[i].matrix=rbs.bodies()[i].transformation.asTuple()\n",
    "    updateConnectors(rbs.springs(),connectorsSprings)\n",
    "    springpos = positionsOf(rbs.springs())\n",
    "    if springpos:\n",
    "        springs.geometry = p3.LineSegmentsGeometry(positions=springpos)\n",
    "    \n",
    "    updateConnectors(rbs.beams(),connectorsBeams)\n",
    "    beampos = positionsOf(rbs.beams())\n",
    "    if beampos:\n",
    "        beams.geometry = p3.LineSegmentsGeometry(positions=beampos)\n",
    "\n",
    "def update():\n",
    "    \"update function, gets called every timestep; quasi main loop\"\n",
    "    simulate(rbs, 0.15/2, 1)\n",
    "    refresh()\n",
    "\n",
    "def observer(state):\n",
    "    \"event handler for clickable buttons\"\n",
    "    # if there is a change in time\n",
    "    if state[\"name\"] == \"value\":\n",
    "        # it might be a reset\n",
    "        if str(state[\"new\"]) == \"0\":\n",
    "            rbs.reset()\n",
    "            refresh()\n",
    "        # or it might be a progress in time\n",
    "        else:\n",
    "            update()\n",
    "    # repeat is used as an alias to reset\n",
    "    elif state[\"name\"] == \"repeat\":\n",
    "        rbs.reset()\n",
    "        refresh()\n",
    "\n",
    "play.observe(observer)"
   ]
  },
  {
   "cell_type": "markdown",
   "id": "d925962e-ab80-4923-86b9-42eb7f564675",
   "metadata": {},
   "source": [
    "## Renderer"
   ]
  },
  {
   "cell_type": "code",
   "execution_count": 13,
   "id": "c24ce734-6568-4e53-b187-e8d80cb099f1",
   "metadata": {},
   "outputs": [
    {
     "data": {
      "application/vnd.jupyter.widget-view+json": {
       "model_id": "81c156c8a9c142e992df9ddee80d20e2",
       "version_major": 2,
       "version_minor": 0
      },
      "text/plain": [
       "HBox(children=(Play(value=0, description='Press play', interval=1, max=10000), HTML(value='<b>click-and-drag t…"
      ]
     },
     "metadata": {},
     "output_type": "display_data"
    },
    {
     "data": {
      "application/vnd.jupyter.widget-view+json": {
       "model_id": "33abf62aae234f87902a24f0f3cda3c2",
       "version_major": 2,
       "version_minor": 0
      },
      "text/plain": [
       "Renderer(camera=PerspectiveCamera(aspect=1.4285714285714286, position=(10.0, 6.0, 10.0), projectionMatrix=(1.5…"
      ]
     },
     "metadata": {},
     "output_type": "display_data"
    }
   ],
   "source": [
    "display(widgets.HBox([play, widgets.HTML(\"<b>click-and-drag to rotate, scroll to zoom, right-click-and-drag to move<b>\")]))\n",
    "display(renderer)\n",
    "refresh()"
   ]
  },
  {
   "cell_type": "code",
   "execution_count": null,
   "id": "1a13c052-eaf8-40e2-8395-e1d085118bba",
   "metadata": {},
   "outputs": [],
   "source": []
  }
 ],
 "metadata": {
  "kernelspec": {
   "display_name": "Python 3 (ipykernel)",
   "language": "python",
   "name": "python3"
  },
  "language_info": {
   "codemirror_mode": {
    "name": "ipython",
    "version": 3
   },
   "file_extension": ".py",
   "mimetype": "text/x-python",
   "name": "python",
   "nbconvert_exporter": "python",
   "pygments_lexer": "ipython3",
   "version": "3.12.5"
  }
 },
 "nbformat": 4,
 "nbformat_minor": 5
}
